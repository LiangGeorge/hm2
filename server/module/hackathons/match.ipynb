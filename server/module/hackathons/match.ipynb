{
 "cells": [
  {
   "cell_type": "code",
   "execution_count": 1,
   "metadata": {},
   "outputs": [],
   "source": [
    "import numpy as np\n",
    "from numpy import array"
   ]
  },
  {
   "cell_type": "code",
   "execution_count": 56,
   "metadata": {},
   "outputs": [],
   "source": [
    "user = {\n",
    "    'interests': ['AI', 'Data science', 'Big Data', 'Block Chain'],\n",
    "    'languages': [{'name':'Javascript', 'skill':'8'},{'name': 'Java', 'skill': '6'},{'name': 'Python', 'skill':'9'}],\n",
    "    'technologies':[{'name':'D3', 'skill':'4'}],\n",
    "    'fields':[]\n",
    "}\n",
    "\n",
    "other_user = {\n",
    "    'interests': ['AI', 'CV', 'Big Data', 'ML','Block Chain'],\n",
    "    'languages': [{'name':'Javascript', 'skill':'4'},{'name': 'C', 'skill': '3'},{'name': 'Python', 'skill':'8'}],\n",
    "    'technologies':[{'name':'Spark', 'skill':'4'}],\n",
    "    'fields':['Finance', 'Health']\n",
    "}"
   ]
  },
  {
   "cell_type": "markdown",
   "metadata": {},
   "source": [
    "## Preprocessing"
   ]
  },
  {
   "cell_type": "code",
   "execution_count": 5,
   "metadata": {},
   "outputs": [],
   "source": [
    "def load_constants(file_name):\n",
    "    f = open(file_name, 'r')\n",
    "    arr = f.readlines()\n",
    "    constants = []\n",
    "    for x in arr:\n",
    "        s = x.replace(\"\\n\", '');\n",
    "        constants.append(s)\n",
    "    return constants\n",
    "\n",
    "interests = load_constants('/Users/admin/Desktop/Projects/hm/server/tests/interests.txt')\n",
    "languages = load_constants('/Users/admin/Desktop/Projects/hm/server/tests/languages.txt')\n",
    "fields = load_constants('/Users/admin/Desktop/Projects/hm/server/tests/fields.txt')\n",
    "technologies = load_constants('/Users/admin/Desktop/Projects/hm/server/tests/technologies.txt')"
   ]
  },
  {
   "cell_type": "code",
   "execution_count": 38,
   "metadata": {},
   "outputs": [],
   "source": [
    "def one_hot_encode(user_preferences, constants_arr):\n",
    "    one_hot_encode = [0] * len(constants_arr)\n",
    "    for preference in user_preferences:\n",
    "        if isinstance(preference, str):\n",
    "            idx = constants_arr.index(preference)\n",
    "            one_hot_encode[idx] = 1\n",
    "        else:\n",
    "            idx = constants_arr.index(preference['name'])\n",
    "            one_hot_encode[idx] = float(preference['skill']) / 10.0\n",
    "    return one_hot_encode"
   ]
  },
  {
   "cell_type": "markdown",
   "metadata": {},
   "source": [
    "## Compute scores"
   ]
  },
  {
   "cell_type": "code",
   "execution_count": 53,
   "metadata": {},
   "outputs": [],
   "source": [
    "def compute_preference_score(user_preference, opponent_preference, constants_arr):\n",
    "    user = array(one_hot_encode(user_preference, constants_arr))\n",
    "    opponent = array(one_hot_encode(opponent_preference, constants_arr))\n",
    "    result = np.multiply(user, opponent)\n",
    "    return result"
   ]
  },
  {
   "cell_type": "code",
   "execution_count": 54,
   "metadata": {},
   "outputs": [],
   "source": [
    "def score_arr_to_scalar(score_arr):\n",
    "    total = 0\n",
    "    for score in score_arr:\n",
    "        if score > 0: total += score\n",
    "    return total"
   ]
  },
  {
   "cell_type": "markdown",
   "metadata": {},
   "source": [
    "## Match"
   ]
  },
  {
   "cell_type": "code",
   "execution_count": 57,
   "metadata": {},
   "outputs": [],
   "source": [
    "interest_score = score_arr_to_scalar(compute_preference_score(user['interests'], other_user['interests'], interests))\n",
    "language_score = score_arr_to_scalar(compute_preference_score(user['languages'], other_user['languages'], languages))\n",
    "technology_score = score_arr_to_scalar(compute_preference_score(user['technologies'], other_user['technologies'], technologies))\n",
    "field_score = score_arr_to_scalar(compute_preference_score(user['fields'], other_user['fields'], fields))"
   ]
  },
  {
   "cell_type": "code",
   "execution_count": 58,
   "metadata": {},
   "outputs": [
    {
     "data": {
      "text/plain": [
       "array([1, 0, 0, 0, 0, 0, 0, 1, 0, 1, 0, 0, 0, 0, 0, 0, 0, 0, 0, 0, 0, 0,\n",
       "       0, 0, 0])"
      ]
     },
     "execution_count": 58,
     "metadata": {},
     "output_type": "execute_result"
    }
   ],
   "source": []
  },
  {
   "cell_type": "code",
   "execution_count": 59,
   "metadata": {},
   "outputs": [
    {
     "name": "stdout",
     "output_type": "stream",
     "text": [
      "3 1.04 0 0\n"
     ]
    }
   ],
   "source": [
    "print(score_arr_to_scalar(interest_score),score_arr_to_scalar(language_score),score_arr_to_scalar(technology_score),score_arr_to_scalar(field_score))"
   ]
  },
  {
   "cell_type": "code",
   "execution_count": null,
   "metadata": {},
   "outputs": [],
   "source": []
  }
 ],
 "metadata": {
  "kernelspec": {
   "display_name": "Python 3",
   "language": "python",
   "name": "python3"
  },
  "language_info": {
   "codemirror_mode": {
    "name": "ipython",
    "version": 3
   },
   "file_extension": ".py",
   "mimetype": "text/x-python",
   "name": "python",
   "nbconvert_exporter": "python",
   "pygments_lexer": "ipython3",
   "version": "3.7.3"
  }
 },
 "nbformat": 4,
 "nbformat_minor": 2
}
