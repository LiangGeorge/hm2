{
 "cells": [
  {
   "cell_type": "code",
   "execution_count": 1,
   "metadata": {},
   "outputs": [],
   "source": [
    "import numpy as np\n",
    "from numpy import array"
   ]
  },
  {
   "cell_type": "code",
   "execution_count": 2,
   "metadata": {},
   "outputs": [
    {
     "ename": "SyntaxError",
     "evalue": "invalid syntax (<ipython-input-2-3e21d44339c9>, line 3)",
     "output_type": "error",
     "traceback": [
      "\u001b[0;36m  File \u001b[0;32m\"<ipython-input-2-3e21d44339c9>\"\u001b[0;36m, line \u001b[0;32m3\u001b[0m\n\u001b[0;31m    'languages': [{'name':'Javascript', 'skill':'8'},{'name': 'Java', 'skill': '6'},{'name': 'Python', '9'}],\u001b[0m\n\u001b[0m                                                                                                          ^\u001b[0m\n\u001b[0;31mSyntaxError\u001b[0m\u001b[0;31m:\u001b[0m invalid syntax\n"
     ]
    }
   ],
   "source": [
    "user = {\n",
    "    'interests': ['AI', 'Data science', 'Big Data', 'Block Chain'],\n",
    "    'languages': [{'name':'Javascript', 'skill':'8'},{'name': 'Java', 'skill': '6'},{'name': 'Python', 'skill':'9'}],\n",
    "    'technologgies':[{'name':'D3', 'skill':'4'}],\n",
    "    'fields':[]\n",
    "}\n",
    "\n",
    "other_user = {\n",
    "    'interests': ['AI', 'CV', 'Big Data', 'ML','Block Chain'],\n",
    "    'languages': [{'name':'Javascript', 'skill':'4'},{'name': 'C', 'skill': '3'},{'name': 'Python', '8'}],\n",
    "    'technologgies':[{'name':'Spark', 'skill':'4'}],\n",
    "    'fields':['Finance', 'Health']\n",
    "}"
   ]
  },
  {
   "cell_type": "markdown",
   "metadata": {},
   "source": [
    "## Preprocessing"
   ]
  },
  {
   "cell_type": "code",
   "execution_count": null,
   "metadata": {},
   "outputs": [],
   "source": [
    "def load_constants(file_name):\n",
    "    f = open(file_name, 'r')\n",
    "    arr = f.readlines()\n",
    "    constants = []\n",
    "    for x in arr:\n",
    "        s = x.replace(\"\\n\", '');\n",
    "        constants.append(s)\n",
    "    return constants\n",
    "\n",
    "interests = load_constants('/Users/admin/Desktop/Projects/hm/server/tests/interests.txt')\n",
    "languages = load_constants('/Users/admin/Desktop/Projects/hm/server/tests/languages.txt')\n",
    "fields = load_constants('/Users/admin/Desktop/Projects/hm/server/tests/fields.txt')\n",
    "technologies = load_constants('/Users/admin/Desktop/Projects/hm/server/tests/technologies.txt')"
   ]
  },
  {
   "cell_type": "code",
   "execution_count": null,
   "metadata": {},
   "outputs": [],
   "source": [
    "def one_hot_encode(user_preferences, constants_arr):\n",
    "    one_hot_encode = [0] * len(constants_arr)\n",
    "    for preference in user_preferences:\n",
    "        if isinstance(preference, basestring):\n",
    "            idx = constants_arr.index(preference)\n",
    "            one_hot_encode[idx] = 1\n",
    "        else:\n",
    "            idx = constants_arr.index(preference['name'])\n",
    "            one_hot_encode[idx] = preference['skill']"
   ]
  },
  {
   "cell_type": "markdown",
   "metadata": {},
   "source": [
    "## Compute scores"
   ]
  },
  {
   "cell_type": "code",
   "execution_count": null,
   "metadata": {},
   "outputs": [],
   "source": [
    "def compute_preference_score(user_preference, opponent_preference, constants_arr):\n",
    "    user = array(one_hot_encode(user_preference, constants_arr))\n",
    "    opponent = array(one_hot_encode(opponent_preference, constants_arr))\n",
    "    return user, opponent"
   ]
  }
 ],
 "metadata": {
  "kernelspec": {
   "display_name": "Python 3",
   "language": "python",
   "name": "python3"
  },
  "language_info": {
   "codemirror_mode": {
    "name": "ipython",
    "version": 3
   },
   "file_extension": ".py",
   "mimetype": "text/x-python",
   "name": "python",
   "nbconvert_exporter": "python",
   "pygments_lexer": "ipython3",
   "version": "3.7.3"
  }
 },
 "nbformat": 4,
 "nbformat_minor": 2
}
